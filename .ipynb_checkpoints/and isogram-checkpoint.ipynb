{
 "cells": [
  {
   "cell_type": "code",
   "execution_count": 2,
   "metadata": {},
   "outputs": [],
   "source": [
    "def is_isogram(word):\n",
    "    '''This function tests for isogram'''\n",
    "    word_set = set(word)\n",
    "\n",
    "    if word.strip() == \"\":\n",
    "        return (word, False)\n",
    "\n",
    "    elif len(word) == len(word_set):\n",
    "        return (word, True)\n",
    "\n",
    "    elif type(word)!= str :\n",
    "        raise TypeError\n",
    "\n",
    "    else:\n",
    "        return (word, False)"
   ]
  }
 ],
 "metadata": {
  "kernelspec": {
   "display_name": "Python 3",
   "language": "python",
   "name": "python3"
  },
  "language_info": {
   "codemirror_mode": {
    "name": "ipython",
    "version": 3
   },
   "file_extension": ".py",
   "mimetype": "text/x-python",
   "name": "python",
   "nbconvert_exporter": "python",
   "pygments_lexer": "ipython3",
   "version": "3.6.5"
  }
 },
 "nbformat": 4,
 "nbformat_minor": 2
}
