{
 "cells": [
  {
   "cell_type": "code",
   "execution_count": 1,
   "metadata": {},
   "outputs": [],
   "source": [
    "class ShoppingCart(object):\n",
    "\n",
    "  def __init__(self):\n",
    "      self.total = 0 \n",
    "      self.items = {}\n",
    "\n",
    "  def add_item(self,item_name,quantity,price):\n",
    "      self.items[item_name] = quantity\n",
    "      self.total += price*quantity\n",
    "  def remove_item(self, item_name, quantity, price):\n",
    "    if quantity >= self.items[item_name]:\n",
    "        self.total -= (self.items[item_name] * price)\n",
    "        del self.items[item_name]\n",
    "    else:\n",
    "        self.total -= (quantity * price)\n",
    "        self.items[item_name] -= quantity\n",
    "\n",
    "  def checkout(self,cash_paid):\n",
    "      if cash_paid >= self.total:\n",
    "          return cash_paid - self.total\n",
    "      else:\n",
    "          return \"Cash paid not enough\"\n",
    "\n",
    "class Shop(ShoppingCart):\n",
    "  def __init__(self):\n",
    "      self.quantity = 100\n",
    "\n",
    "  def remove_item(self):\n",
    "      self.quantity -= 1"
   ]
  },
  {
   "cell_type": "code",
   "execution_count": null,
   "metadata": {},
   "outputs": [],
   "source": []
  }
 ],
 "metadata": {
  "kernelspec": {
   "display_name": "Python 3",
   "language": "python",
   "name": "python3"
  },
  "language_info": {
   "codemirror_mode": {
    "name": "ipython",
    "version": 3
   },
   "file_extension": ".py",
   "mimetype": "text/x-python",
   "name": "python",
   "nbconvert_exporter": "python",
   "pygments_lexer": "ipython3",
   "version": "3.6.5"
  }
 },
 "nbformat": 4,
 "nbformat_minor": 2
}
